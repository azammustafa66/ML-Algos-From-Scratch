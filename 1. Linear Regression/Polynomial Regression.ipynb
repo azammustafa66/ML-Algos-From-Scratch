{
 "cells": [
  {
   "cell_type": "markdown",
   "id": "8937c08c",
   "metadata": {},
   "source": [
    "# Polynomial Regression"
   ]
  },
  {
   "cell_type": "code",
   "execution_count": 1,
   "id": "fae72caf",
   "metadata": {},
   "outputs": [],
   "source": [
    "# Import necessary libraries\n",
    "import pandas as pd\n",
    "import numpy as np\n",
    "import matplotlib.pyplot as plt\n",
    "import seaborn as sns"
   ]
  },
  {
   "cell_type": "code",
   "execution_count": 2,
   "id": "04dee215",
   "metadata": {},
   "outputs": [
    {
     "data": {
      "application/vnd.microsoft.datawrangler.viewer.v0+json": {
       "columns": [
        {
         "name": "index",
         "rawType": "int64",
         "type": "integer"
        },
        {
         "name": "Temperature (°C)",
         "rawType": "float64",
         "type": "float"
        },
        {
         "name": "Pressure (kPa)",
         "rawType": "float64",
         "type": "float"
        },
        {
         "name": "Temperature x Pressure",
         "rawType": "float64",
         "type": "float"
        },
        {
         "name": "Material Fusion Metric",
         "rawType": "float64",
         "type": "float"
        },
        {
         "name": "Material Transformation Metric",
         "rawType": "float64",
         "type": "float"
        },
        {
         "name": "Quality Rating",
         "rawType": "float64",
         "type": "float"
        }
       ],
       "ref": "ec290028-e121-486c-80f0-6fb84fdc0748",
       "rows": [
        [
         "0",
         "209.76270078546492",
         "8.050855372267016",
         "1688.769166519899",
         "44522.21707426675",
         "9229575.9601601",
         "99.99997051667044"
        ],
        [
         "1",
         "243.0378732744839",
         "15.81206837248824",
         "3842.931469320272",
         "63020.76499666782",
         "14355367.161169715",
         "99.9857034148466"
        ],
        [
         "2",
         "220.5526752143288",
         "7.843130045242965",
         "1729.8233135322153",
         "49125.950248984256",
         "10728388.692175286",
         "99.99975760980664"
        ],
        [
         "3",
         "208.9766365993794",
         "23.78608919382891",
         "4970.736917579209",
         "57128.88154720625",
         "9125701.954087583",
         "99.9999748371414"
        ],
        [
         "4",
         "184.7309598677809",
         "15.797812212212808",
         "2918.345013773024",
         "38068.20128250773",
         "6303791.886418867",
         "99.99999985827117"
        ],
        [
         "5",
         "229.1788226133312",
         "8.498306097138524",
         "1947.631785549901",
         "53136.69065414998",
         "12037071.663069967",
         "99.99878570587263"
        ],
        [
         "6",
         "187.5174422525385",
         "19.41285093833815",
         "3640.2481547869615",
         "42478.6945000483",
         "6593259.799926771",
         "99.9999997342736"
        ],
        [
         "7",
         "278.3546001564159",
         "7.070943886395444",
         "1968.2297582260576",
         "77834.81823033674",
         "21567221.67002573",
         "95.73272257668091"
        ],
        [
         "8",
         "292.73255210020585",
         "20.4328957994804",
         "5981.373734179474",
         "94223.14706901045",
         "25084521.94683608",
         "64.62359867766705"
        ],
        [
         "9",
         "176.68830376515552",
         "14.145782221580872",
         "2499.394266162418",
         "34049.372335085114",
         "5515789.061600543",
         "99.9999999781456"
        ]
       ],
       "shape": {
        "columns": 6,
        "rows": 10
       }
      },
      "text/html": [
       "<div>\n",
       "<style scoped>\n",
       "    .dataframe tbody tr th:only-of-type {\n",
       "        vertical-align: middle;\n",
       "    }\n",
       "\n",
       "    .dataframe tbody tr th {\n",
       "        vertical-align: top;\n",
       "    }\n",
       "\n",
       "    .dataframe thead th {\n",
       "        text-align: right;\n",
       "    }\n",
       "</style>\n",
       "<table border=\"1\" class=\"dataframe\">\n",
       "  <thead>\n",
       "    <tr style=\"text-align: right;\">\n",
       "      <th></th>\n",
       "      <th>Temperature (°C)</th>\n",
       "      <th>Pressure (kPa)</th>\n",
       "      <th>Temperature x Pressure</th>\n",
       "      <th>Material Fusion Metric</th>\n",
       "      <th>Material Transformation Metric</th>\n",
       "      <th>Quality Rating</th>\n",
       "    </tr>\n",
       "  </thead>\n",
       "  <tbody>\n",
       "    <tr>\n",
       "      <th>0</th>\n",
       "      <td>209.762701</td>\n",
       "      <td>8.050855</td>\n",
       "      <td>1688.769167</td>\n",
       "      <td>44522.217074</td>\n",
       "      <td>9.229576e+06</td>\n",
       "      <td>99.999971</td>\n",
       "    </tr>\n",
       "    <tr>\n",
       "      <th>1</th>\n",
       "      <td>243.037873</td>\n",
       "      <td>15.812068</td>\n",
       "      <td>3842.931469</td>\n",
       "      <td>63020.764997</td>\n",
       "      <td>1.435537e+07</td>\n",
       "      <td>99.985703</td>\n",
       "    </tr>\n",
       "    <tr>\n",
       "      <th>2</th>\n",
       "      <td>220.552675</td>\n",
       "      <td>7.843130</td>\n",
       "      <td>1729.823314</td>\n",
       "      <td>49125.950249</td>\n",
       "      <td>1.072839e+07</td>\n",
       "      <td>99.999758</td>\n",
       "    </tr>\n",
       "    <tr>\n",
       "      <th>3</th>\n",
       "      <td>208.976637</td>\n",
       "      <td>23.786089</td>\n",
       "      <td>4970.736918</td>\n",
       "      <td>57128.881547</td>\n",
       "      <td>9.125702e+06</td>\n",
       "      <td>99.999975</td>\n",
       "    </tr>\n",
       "    <tr>\n",
       "      <th>4</th>\n",
       "      <td>184.730960</td>\n",
       "      <td>15.797812</td>\n",
       "      <td>2918.345014</td>\n",
       "      <td>38068.201283</td>\n",
       "      <td>6.303792e+06</td>\n",
       "      <td>100.000000</td>\n",
       "    </tr>\n",
       "    <tr>\n",
       "      <th>5</th>\n",
       "      <td>229.178823</td>\n",
       "      <td>8.498306</td>\n",
       "      <td>1947.631786</td>\n",
       "      <td>53136.690654</td>\n",
       "      <td>1.203707e+07</td>\n",
       "      <td>99.998786</td>\n",
       "    </tr>\n",
       "    <tr>\n",
       "      <th>6</th>\n",
       "      <td>187.517442</td>\n",
       "      <td>19.412851</td>\n",
       "      <td>3640.248155</td>\n",
       "      <td>42478.694500</td>\n",
       "      <td>6.593260e+06</td>\n",
       "      <td>100.000000</td>\n",
       "    </tr>\n",
       "    <tr>\n",
       "      <th>7</th>\n",
       "      <td>278.354600</td>\n",
       "      <td>7.070944</td>\n",
       "      <td>1968.229758</td>\n",
       "      <td>77834.818230</td>\n",
       "      <td>2.156722e+07</td>\n",
       "      <td>95.732723</td>\n",
       "    </tr>\n",
       "    <tr>\n",
       "      <th>8</th>\n",
       "      <td>292.732552</td>\n",
       "      <td>20.432896</td>\n",
       "      <td>5981.373734</td>\n",
       "      <td>94223.147069</td>\n",
       "      <td>2.508452e+07</td>\n",
       "      <td>64.623599</td>\n",
       "    </tr>\n",
       "    <tr>\n",
       "      <th>9</th>\n",
       "      <td>176.688304</td>\n",
       "      <td>14.145782</td>\n",
       "      <td>2499.394266</td>\n",
       "      <td>34049.372335</td>\n",
       "      <td>5.515789e+06</td>\n",
       "      <td>100.000000</td>\n",
       "    </tr>\n",
       "  </tbody>\n",
       "</table>\n",
       "</div>"
      ],
      "text/plain": [
       "   Temperature (°C)  Pressure (kPa)  Temperature x Pressure  \\\n",
       "0        209.762701        8.050855             1688.769167   \n",
       "1        243.037873       15.812068             3842.931469   \n",
       "2        220.552675        7.843130             1729.823314   \n",
       "3        208.976637       23.786089             4970.736918   \n",
       "4        184.730960       15.797812             2918.345014   \n",
       "5        229.178823        8.498306             1947.631786   \n",
       "6        187.517442       19.412851             3640.248155   \n",
       "7        278.354600        7.070944             1968.229758   \n",
       "8        292.732552       20.432896             5981.373734   \n",
       "9        176.688304       14.145782             2499.394266   \n",
       "\n",
       "   Material Fusion Metric  Material Transformation Metric  Quality Rating  \n",
       "0            44522.217074                    9.229576e+06       99.999971  \n",
       "1            63020.764997                    1.435537e+07       99.985703  \n",
       "2            49125.950249                    1.072839e+07       99.999758  \n",
       "3            57128.881547                    9.125702e+06       99.999975  \n",
       "4            38068.201283                    6.303792e+06      100.000000  \n",
       "5            53136.690654                    1.203707e+07       99.998786  \n",
       "6            42478.694500                    6.593260e+06      100.000000  \n",
       "7            77834.818230                    2.156722e+07       95.732723  \n",
       "8            94223.147069                    2.508452e+07       64.623599  \n",
       "9            34049.372335                    5.515789e+06      100.000000  "
      ]
     },
     "execution_count": 2,
     "metadata": {},
     "output_type": "execute_result"
    }
   ],
   "source": [
    "# Load the dataset\n",
    "df = pd.read_csv('./datasets/manufacturing.csv')\n",
    "df.head(10)"
   ]
  },
  {
   "cell_type": "code",
   "execution_count": null,
   "id": "a2940858",
   "metadata": {},
   "outputs": [],
   "source": []
  }
 ],
 "metadata": {
  "kernelspec": {
   "display_name": "ML Algos From Scratch",
   "language": "python",
   "name": "python3"
  },
  "language_info": {
   "codemirror_mode": {
    "name": "ipython",
    "version": 3
   },
   "file_extension": ".py",
   "mimetype": "text/x-python",
   "name": "python",
   "nbconvert_exporter": "python",
   "pygments_lexer": "ipython3",
   "version": "3.12.4"
  }
 },
 "nbformat": 4,
 "nbformat_minor": 5
}
