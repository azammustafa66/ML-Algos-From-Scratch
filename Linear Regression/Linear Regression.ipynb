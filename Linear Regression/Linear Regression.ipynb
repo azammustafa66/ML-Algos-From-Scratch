{
 "cells": [
  {
   "cell_type": "markdown",
   "id": "96a40c36",
   "metadata": {},
   "source": [
    "# Simple Linear Regression"
   ]
  },
  {
   "cell_type": "code",
   "execution_count": 1,
   "id": "370a903b",
   "metadata": {},
   "outputs": [],
   "source": [
    "# Import necessary packages\n",
    "import numpy as np\n",
    "import pandas as pd\n",
    "import matplotlib.pyplot as plt\n",
    "import seaborn as sns"
   ]
  },
  {
   "cell_type": "code",
   "execution_count": 2,
   "id": "49143d86",
   "metadata": {},
   "outputs": [
    {
     "data": {
      "application/vnd.microsoft.datawrangler.viewer.v0+json": {
       "columns": [
        {
         "name": "index",
         "rawType": "int64",
         "type": "integer"
        },
        {
         "name": "Unnamed: 0",
         "rawType": "int64",
         "type": "integer"
        },
        {
         "name": "TV Ad Budget ($)",
         "rawType": "float64",
         "type": "float"
        },
        {
         "name": "Radio Ad Budget ($)",
         "rawType": "float64",
         "type": "float"
        },
        {
         "name": "Newspaper Ad Budget ($)",
         "rawType": "float64",
         "type": "float"
        },
        {
         "name": "Sales ($)",
         "rawType": "float64",
         "type": "float"
        }
       ],
       "ref": "6ce88455-c82e-477f-9d7e-c0900b3fd729",
       "rows": [
        [
         "0",
         "1",
         "230.1",
         "37.8",
         "69.2",
         "22.1"
        ],
        [
         "1",
         "2",
         "44.5",
         "39.3",
         "45.1",
         "10.4"
        ],
        [
         "2",
         "3",
         "17.2",
         "45.9",
         "69.3",
         "9.3"
        ],
        [
         "3",
         "4",
         "151.5",
         "41.3",
         "58.5",
         "18.5"
        ],
        [
         "4",
         "5",
         "180.8",
         "10.8",
         "58.4",
         "12.9"
        ],
        [
         "5",
         "6",
         "8.7",
         "48.9",
         "75.0",
         "7.2"
        ],
        [
         "6",
         "7",
         "57.5",
         "32.8",
         "23.5",
         "11.8"
        ],
        [
         "7",
         "8",
         "120.2",
         "19.6",
         "11.6",
         "13.2"
        ],
        [
         "8",
         "9",
         "8.6",
         "2.1",
         "1.0",
         "4.8"
        ],
        [
         "9",
         "10",
         "199.8",
         "2.6",
         "21.2",
         "10.6"
        ]
       ],
       "shape": {
        "columns": 5,
        "rows": 10
       }
      },
      "text/html": [
       "<div>\n",
       "<style scoped>\n",
       "    .dataframe tbody tr th:only-of-type {\n",
       "        vertical-align: middle;\n",
       "    }\n",
       "\n",
       "    .dataframe tbody tr th {\n",
       "        vertical-align: top;\n",
       "    }\n",
       "\n",
       "    .dataframe thead th {\n",
       "        text-align: right;\n",
       "    }\n",
       "</style>\n",
       "<table border=\"1\" class=\"dataframe\">\n",
       "  <thead>\n",
       "    <tr style=\"text-align: right;\">\n",
       "      <th></th>\n",
       "      <th>Unnamed: 0</th>\n",
       "      <th>TV Ad Budget ($)</th>\n",
       "      <th>Radio Ad Budget ($)</th>\n",
       "      <th>Newspaper Ad Budget ($)</th>\n",
       "      <th>Sales ($)</th>\n",
       "    </tr>\n",
       "  </thead>\n",
       "  <tbody>\n",
       "    <tr>\n",
       "      <th>0</th>\n",
       "      <td>1</td>\n",
       "      <td>230.1</td>\n",
       "      <td>37.8</td>\n",
       "      <td>69.2</td>\n",
       "      <td>22.1</td>\n",
       "    </tr>\n",
       "    <tr>\n",
       "      <th>1</th>\n",
       "      <td>2</td>\n",
       "      <td>44.5</td>\n",
       "      <td>39.3</td>\n",
       "      <td>45.1</td>\n",
       "      <td>10.4</td>\n",
       "    </tr>\n",
       "    <tr>\n",
       "      <th>2</th>\n",
       "      <td>3</td>\n",
       "      <td>17.2</td>\n",
       "      <td>45.9</td>\n",
       "      <td>69.3</td>\n",
       "      <td>9.3</td>\n",
       "    </tr>\n",
       "    <tr>\n",
       "      <th>3</th>\n",
       "      <td>4</td>\n",
       "      <td>151.5</td>\n",
       "      <td>41.3</td>\n",
       "      <td>58.5</td>\n",
       "      <td>18.5</td>\n",
       "    </tr>\n",
       "    <tr>\n",
       "      <th>4</th>\n",
       "      <td>5</td>\n",
       "      <td>180.8</td>\n",
       "      <td>10.8</td>\n",
       "      <td>58.4</td>\n",
       "      <td>12.9</td>\n",
       "    </tr>\n",
       "    <tr>\n",
       "      <th>5</th>\n",
       "      <td>6</td>\n",
       "      <td>8.7</td>\n",
       "      <td>48.9</td>\n",
       "      <td>75.0</td>\n",
       "      <td>7.2</td>\n",
       "    </tr>\n",
       "    <tr>\n",
       "      <th>6</th>\n",
       "      <td>7</td>\n",
       "      <td>57.5</td>\n",
       "      <td>32.8</td>\n",
       "      <td>23.5</td>\n",
       "      <td>11.8</td>\n",
       "    </tr>\n",
       "    <tr>\n",
       "      <th>7</th>\n",
       "      <td>8</td>\n",
       "      <td>120.2</td>\n",
       "      <td>19.6</td>\n",
       "      <td>11.6</td>\n",
       "      <td>13.2</td>\n",
       "    </tr>\n",
       "    <tr>\n",
       "      <th>8</th>\n",
       "      <td>9</td>\n",
       "      <td>8.6</td>\n",
       "      <td>2.1</td>\n",
       "      <td>1.0</td>\n",
       "      <td>4.8</td>\n",
       "    </tr>\n",
       "    <tr>\n",
       "      <th>9</th>\n",
       "      <td>10</td>\n",
       "      <td>199.8</td>\n",
       "      <td>2.6</td>\n",
       "      <td>21.2</td>\n",
       "      <td>10.6</td>\n",
       "    </tr>\n",
       "  </tbody>\n",
       "</table>\n",
       "</div>"
      ],
      "text/plain": [
       "   Unnamed: 0  TV Ad Budget ($)  Radio Ad Budget ($)  Newspaper Ad Budget ($)  \\\n",
       "0           1             230.1                 37.8                     69.2   \n",
       "1           2              44.5                 39.3                     45.1   \n",
       "2           3              17.2                 45.9                     69.3   \n",
       "3           4             151.5                 41.3                     58.5   \n",
       "4           5             180.8                 10.8                     58.4   \n",
       "5           6               8.7                 48.9                     75.0   \n",
       "6           7              57.5                 32.8                     23.5   \n",
       "7           8             120.2                 19.6                     11.6   \n",
       "8           9               8.6                  2.1                      1.0   \n",
       "9          10             199.8                  2.6                     21.2   \n",
       "\n",
       "   Sales ($)  \n",
       "0       22.1  \n",
       "1       10.4  \n",
       "2        9.3  \n",
       "3       18.5  \n",
       "4       12.9  \n",
       "5        7.2  \n",
       "6       11.8  \n",
       "7       13.2  \n",
       "8        4.8  \n",
       "9       10.6  "
      ]
     },
     "execution_count": 2,
     "metadata": {},
     "output_type": "execute_result"
    }
   ],
   "source": [
    "# Import and check your dataset\n",
    "df = pd.read_csv('./Advertising Budget and Sales.csv')\n",
    "df.head(n=10)"
   ]
  },
  {
   "cell_type": "code",
   "execution_count": 3,
   "id": "f1070592",
   "metadata": {},
   "outputs": [
    {
     "data": {
      "text/plain": [
       "Index(['Unnamed: 0', 'TV Ad Budget ($)', 'Radio Ad Budget ($)',\n",
       "       'Newspaper Ad Budget ($)', 'Sales ($)'],\n",
       "      dtype='object')"
      ]
     },
     "execution_count": 3,
     "metadata": {},
     "output_type": "execute_result"
    }
   ],
   "source": [
    "df.columns"
   ]
  },
  {
   "cell_type": "markdown",
   "id": "255d68cb",
   "metadata": {},
   "source": [
    "## Exploratory Data Analysis"
   ]
  },
  {
   "cell_type": "code",
   "execution_count": 4,
   "id": "2672071f",
   "metadata": {},
   "outputs": [
    {
     "name": "stdout",
     "output_type": "stream",
     "text": [
      "<class 'pandas.core.frame.DataFrame'>\n",
      "RangeIndex: 200 entries, 0 to 199\n",
      "Data columns (total 5 columns):\n",
      " #   Column                   Non-Null Count  Dtype  \n",
      "---  ------                   --------------  -----  \n",
      " 0   Unnamed: 0               200 non-null    int64  \n",
      " 1   TV Ad Budget ($)         200 non-null    float64\n",
      " 2   Radio Ad Budget ($)      200 non-null    float64\n",
      " 3   Newspaper Ad Budget ($)  200 non-null    float64\n",
      " 4   Sales ($)                200 non-null    float64\n",
      "dtypes: float64(4), int64(1)\n",
      "memory usage: 7.9 KB\n"
     ]
    }
   ],
   "source": [
    "df.info()"
   ]
  },
  {
   "cell_type": "code",
   "execution_count": 5,
   "id": "5c78bb0d",
   "metadata": {},
   "outputs": [
    {
     "data": {
      "application/vnd.microsoft.datawrangler.viewer.v0+json": {
       "columns": [
        {
         "name": "index",
         "rawType": "object",
         "type": "string"
        },
        {
         "name": "Unnamed: 0",
         "rawType": "float64",
         "type": "float"
        },
        {
         "name": "TV Ad Budget ($)",
         "rawType": "float64",
         "type": "float"
        },
        {
         "name": "Radio Ad Budget ($)",
         "rawType": "float64",
         "type": "float"
        },
        {
         "name": "Newspaper Ad Budget ($)",
         "rawType": "float64",
         "type": "float"
        },
        {
         "name": "Sales ($)",
         "rawType": "float64",
         "type": "float"
        }
       ],
       "ref": "a6d2b240-73b6-4dd1-a318-061bd8215421",
       "rows": [
        [
         "count",
         "200.0",
         "200.0",
         "200.0",
         "200.0",
         "200.0"
        ],
        [
         "mean",
         "100.5",
         "147.0425",
         "23.264000000000006",
         "30.553999999999995",
         "14.0225"
        ],
        [
         "std",
         "57.879184513951124",
         "85.85423631490808",
         "14.846809176168724",
         "21.778620838522826",
         "5.217456565710478"
        ],
        [
         "min",
         "1.0",
         "0.7",
         "0.0",
         "0.3",
         "1.6"
        ],
        [
         "25%",
         "50.75",
         "74.375",
         "9.975",
         "12.75",
         "10.375"
        ],
        [
         "50%",
         "100.5",
         "149.75",
         "22.9",
         "25.75",
         "12.9"
        ],
        [
         "75%",
         "150.25",
         "218.825",
         "36.525",
         "45.1",
         "17.4"
        ],
        [
         "max",
         "200.0",
         "296.4",
         "49.6",
         "114.0",
         "27.0"
        ]
       ],
       "shape": {
        "columns": 5,
        "rows": 8
       }
      },
      "text/html": [
       "<div>\n",
       "<style scoped>\n",
       "    .dataframe tbody tr th:only-of-type {\n",
       "        vertical-align: middle;\n",
       "    }\n",
       "\n",
       "    .dataframe tbody tr th {\n",
       "        vertical-align: top;\n",
       "    }\n",
       "\n",
       "    .dataframe thead th {\n",
       "        text-align: right;\n",
       "    }\n",
       "</style>\n",
       "<table border=\"1\" class=\"dataframe\">\n",
       "  <thead>\n",
       "    <tr style=\"text-align: right;\">\n",
       "      <th></th>\n",
       "      <th>Unnamed: 0</th>\n",
       "      <th>TV Ad Budget ($)</th>\n",
       "      <th>Radio Ad Budget ($)</th>\n",
       "      <th>Newspaper Ad Budget ($)</th>\n",
       "      <th>Sales ($)</th>\n",
       "    </tr>\n",
       "  </thead>\n",
       "  <tbody>\n",
       "    <tr>\n",
       "      <th>count</th>\n",
       "      <td>200.000000</td>\n",
       "      <td>200.000000</td>\n",
       "      <td>200.000000</td>\n",
       "      <td>200.000000</td>\n",
       "      <td>200.000000</td>\n",
       "    </tr>\n",
       "    <tr>\n",
       "      <th>mean</th>\n",
       "      <td>100.500000</td>\n",
       "      <td>147.042500</td>\n",
       "      <td>23.264000</td>\n",
       "      <td>30.554000</td>\n",
       "      <td>14.022500</td>\n",
       "    </tr>\n",
       "    <tr>\n",
       "      <th>std</th>\n",
       "      <td>57.879185</td>\n",
       "      <td>85.854236</td>\n",
       "      <td>14.846809</td>\n",
       "      <td>21.778621</td>\n",
       "      <td>5.217457</td>\n",
       "    </tr>\n",
       "    <tr>\n",
       "      <th>min</th>\n",
       "      <td>1.000000</td>\n",
       "      <td>0.700000</td>\n",
       "      <td>0.000000</td>\n",
       "      <td>0.300000</td>\n",
       "      <td>1.600000</td>\n",
       "    </tr>\n",
       "    <tr>\n",
       "      <th>25%</th>\n",
       "      <td>50.750000</td>\n",
       "      <td>74.375000</td>\n",
       "      <td>9.975000</td>\n",
       "      <td>12.750000</td>\n",
       "      <td>10.375000</td>\n",
       "    </tr>\n",
       "    <tr>\n",
       "      <th>50%</th>\n",
       "      <td>100.500000</td>\n",
       "      <td>149.750000</td>\n",
       "      <td>22.900000</td>\n",
       "      <td>25.750000</td>\n",
       "      <td>12.900000</td>\n",
       "    </tr>\n",
       "    <tr>\n",
       "      <th>75%</th>\n",
       "      <td>150.250000</td>\n",
       "      <td>218.825000</td>\n",
       "      <td>36.525000</td>\n",
       "      <td>45.100000</td>\n",
       "      <td>17.400000</td>\n",
       "    </tr>\n",
       "    <tr>\n",
       "      <th>max</th>\n",
       "      <td>200.000000</td>\n",
       "      <td>296.400000</td>\n",
       "      <td>49.600000</td>\n",
       "      <td>114.000000</td>\n",
       "      <td>27.000000</td>\n",
       "    </tr>\n",
       "  </tbody>\n",
       "</table>\n",
       "</div>"
      ],
      "text/plain": [
       "       Unnamed: 0  TV Ad Budget ($)  Radio Ad Budget ($)  \\\n",
       "count  200.000000        200.000000           200.000000   \n",
       "mean   100.500000        147.042500            23.264000   \n",
       "std     57.879185         85.854236            14.846809   \n",
       "min      1.000000          0.700000             0.000000   \n",
       "25%     50.750000         74.375000             9.975000   \n",
       "50%    100.500000        149.750000            22.900000   \n",
       "75%    150.250000        218.825000            36.525000   \n",
       "max    200.000000        296.400000            49.600000   \n",
       "\n",
       "       Newspaper Ad Budget ($)   Sales ($)  \n",
       "count               200.000000  200.000000  \n",
       "mean                 30.554000   14.022500  \n",
       "std                  21.778621    5.217457  \n",
       "min                   0.300000    1.600000  \n",
       "25%                  12.750000   10.375000  \n",
       "50%                  25.750000   12.900000  \n",
       "75%                  45.100000   17.400000  \n",
       "max                 114.000000   27.000000  "
      ]
     },
     "execution_count": 5,
     "metadata": {},
     "output_type": "execute_result"
    }
   ],
   "source": [
    "df.describe()"
   ]
  },
  {
   "cell_type": "code",
   "execution_count": 6,
   "id": "de0ea407",
   "metadata": {},
   "outputs": [],
   "source": [
    "df = df.drop('Unnamed: 0', axis=1)"
   ]
  },
  {
   "cell_type": "code",
   "execution_count": 7,
   "id": "769e381d",
   "metadata": {},
   "outputs": [
    {
     "data": {
      "application/vnd.microsoft.datawrangler.viewer.v0+json": {
       "columns": [
        {
         "name": "index",
         "rawType": "object",
         "type": "string"
        },
        {
         "name": "0",
         "rawType": "int64",
         "type": "integer"
        }
       ],
       "ref": "039cd089-2c41-4cf3-8faa-9c365aa5cb43",
       "rows": [
        [
         "TV Ad Budget ($)",
         "0"
        ],
        [
         "Radio Ad Budget ($)",
         "0"
        ],
        [
         "Newspaper Ad Budget ($)",
         "0"
        ],
        [
         "Sales ($)",
         "0"
        ]
       ],
       "shape": {
        "columns": 1,
        "rows": 4
       }
      },
      "text/plain": [
       "TV Ad Budget ($)           0\n",
       "Radio Ad Budget ($)        0\n",
       "Newspaper Ad Budget ($)    0\n",
       "Sales ($)                  0\n",
       "dtype: int64"
      ]
     },
     "execution_count": 7,
     "metadata": {},
     "output_type": "execute_result"
    }
   ],
   "source": [
    "df.isnull().sum()"
   ]
  },
  {
   "cell_type": "code",
   "execution_count": 8,
   "id": "04c8496f",
   "metadata": {},
   "outputs": [
    {
     "data": {
      "image/png": "[encoded data removed]",
      "text/plain": [
       "<Figure size 800x600 with 2 Axes>"
      ]
     },
     "metadata": {},
     "output_type": "display_data"
    }
   ],
   "source": [
    "heatmap = df.corr()\n",
    "plt.figure(figsize=(8, 6))\n",
    "sns.heatmap(heatmap, annot=True, cmap='coolwarm', fmt='.2f')\n",
    "plt.show()"
   ]
  },
  {
   "cell_type": "code",
   "execution_count": 9,
   "id": "5196fdc1",
   "metadata": {},
   "outputs": [],
   "source": [
    "# Take only TV ad budget as feature and sales as target due to high correlation\n",
    "X = df['TV Ad Budget ($)']\n",
    "y = df['Sales ($)']"
   ]
  },
  {
   "cell_type": "code",
   "execution_count": 10,
   "id": "1632c960",
   "metadata": {},
   "outputs": [
    {
     "data": {
      "application/vnd.microsoft.datawrangler.viewer.v0+json": {
       "columns": [
        {
         "name": "index",
         "rawType": "int64",
         "type": "integer"
        },
        {
         "name": "TV Ad Budget ($)",
         "rawType": "float64",
         "type": "float"
        }
       ],
       "ref": "2833f3e8-c160-4f83-870f-c5855195c49d",
       "rows": [
        [
         "0",
         "230.1"
        ],
        [
         "1",
         "44.5"
        ],
        [
         "2",
         "17.2"
        ],
        [
         "3",
         "151.5"
        ],
        [
         "4",
         "180.8"
        ],
        [
         "5",
         "8.7"
        ],
        [
         "6",
         "57.5"
        ],
        [
         "7",
         "120.2"
        ],
        [
         "8",
         "8.6"
        ],
        [
         "9",
         "199.8"
        ]
       ],
       "shape": {
        "columns": 1,
        "rows": 10
       }
      },
      "text/plain": [
       "0    230.1\n",
       "1     44.5\n",
       "2     17.2\n",
       "3    151.5\n",
       "4    180.8\n",
       "5      8.7\n",
       "6     57.5\n",
       "7    120.2\n",
       "8      8.6\n",
       "9    199.8\n",
       "Name: TV Ad Budget ($), dtype: float64"
      ]
     },
     "execution_count": 10,
     "metadata": {},
     "output_type": "execute_result"
    }
   ],
   "source": [
    "X.head(n=10)"
   ]
  },
  {
   "cell_type": "code",
   "execution_count": 11,
   "id": "6bb36924",
   "metadata": {},
   "outputs": [
    {
     "data": {
      "application/vnd.microsoft.datawrangler.viewer.v0+json": {
       "columns": [
        {
         "name": "index",
         "rawType": "int64",
         "type": "integer"
        },
        {
         "name": "Sales ($)",
         "rawType": "float64",
         "type": "float"
        }
       ],
       "ref": "46a096df-df95-476a-b5dd-fedb536b6f28",
       "rows": [
        [
         "0",
         "22.1"
        ],
        [
         "1",
         "10.4"
        ],
        [
         "2",
         "9.3"
        ],
        [
         "3",
         "18.5"
        ],
        [
         "4",
         "12.9"
        ]
       ],
       "shape": {
        "columns": 1,
        "rows": 5
       }
      },
      "text/plain": [
       "0    22.1\n",
       "1    10.4\n",
       "2     9.3\n",
       "3    18.5\n",
       "4    12.9\n",
       "Name: Sales ($), dtype: float64"
      ]
     },
     "execution_count": 11,
     "metadata": {},
     "output_type": "execute_result"
    }
   ],
   "source": [
    "y.head()"
   ]
  },
  {
   "cell_type": "code",
   "execution_count": null,
   "id": "b83c402b",
   "metadata": {},
   "outputs": [],
   "source": [
    "# Convert to numpy arrays for easier mathematical computations\n",
    "y, X = y.values, X.values"
   ]
  },
  {
   "cell_type": "code",
   "execution_count": null,
   "id": "e7bcf24b",
   "metadata": {},
   "outputs": [],
   "source": [
    "# Standardize the feature for better convergence and add intercept term\n",
    "X = (X - X.mean()) / X.std()\n",
    "X = np.c_[np.ones(X.shape[0]), X]"
   ]
  },
  {
   "cell_type": "code",
   "execution_count": 52,
   "id": "9852d5fa",
   "metadata": {},
   "outputs": [
    {
     "data": {
      "text/plain": [
       "array([[ 1.        , -1.19737623],\n",
       "       [ 1.        , -1.51615499],\n",
       "       [ 1.        ,  0.05204968],\n",
       "       [ 1.        ,  0.3941822 ],\n",
       "       [ 1.        , -1.61540845],\n",
       "       [ 1.        , -1.04557682],\n",
       "       [ 1.        , -0.31343659],\n",
       "       [ 1.        , -1.61657614],\n",
       "       [ 1.        ,  0.61604287]])"
      ]
     },
     "execution_count": 52,
     "metadata": {},
     "output_type": "execute_result"
    }
   ],
   "source": [
    "X[1:10]"
   ]
  },
  {
   "cell_type": "code",
   "execution_count": null,
   "id": "36c7be22",
   "metadata": {},
   "outputs": [],
   "source": [
    "# Use psuedo inverse as not every X.T @ X is invertible, pinv uses SVD which is more stable\n",
    "w = np.linalg.pinv(X.T @ (X)) @ (X.T) @ (y)"
   ]
  },
  {
   "cell_type": "code",
   "execution_count": 53,
   "id": "3e6cadad",
   "metadata": {},
   "outputs": [],
   "source": [
    "y_pred = X @ w"
   ]
  },
  {
   "cell_type": "code",
   "execution_count": 17,
   "id": "c5f88b79",
   "metadata": {},
   "outputs": [
    {
     "name": "stdout",
     "output_type": "stream",
     "text": [
      "Mean Squared Error: 10.512652915656757\n"
     ]
    }
   ],
   "source": [
    "e = y - y_pred\n",
    "mse = np.mean(e**2)\n",
    "print(f'Mean Squared Error: {mse}')"
   ]
  },
  {
   "cell_type": "code",
   "execution_count": 18,
   "id": "e8cc12da",
   "metadata": {},
   "outputs": [
    {
     "name": "stdout",
     "output_type": "stream",
     "text": [
      "(200, 2)\n",
      "(200,)\n",
      "(200,)\n"
     ]
    }
   ],
   "source": [
    "print(X.shape)\n",
    "print(y.shape)\n",
    "print(y_pred.shape)"
   ]
  },
  {
   "cell_type": "code",
   "execution_count": 19,
   "id": "25b0396d",
   "metadata": {},
   "outputs": [
    {
     "data": {
      "image/png": "[encoded data removed]",
      "text/plain": [
       "<Figure size 800x600 with 1 Axes>"
      ]
     },
     "metadata": {},
     "output_type": "display_data"
    }
   ],
   "source": [
    "plt.figure(figsize=(8, 6))\n",
    "plt.scatter(X[:, 1], y, color=\"blue\", alpha=0.5, label=\"Actual data\")\n",
    "plt.plot(X[:, 1], y_pred, color=\"red\", linewidth=2, label=\"Regression line\")\n",
    "plt.xlabel(\"TV Advertising Spend ($1000s)\")\n",
    "plt.ylabel(\"Sales ($1000s)\")\n",
    "plt.title(\"Linear Regression: TV Spend vs Sales\")\n",
    "plt.legend()\n",
    "plt.show()"
   ]
  },
  {
   "cell_type": "code",
   "execution_count": 20,
   "id": "31711902",
   "metadata": {},
   "outputs": [
    {
     "name": "stdout",
     "output_type": "stream",
     "text": [
      "R² Score: 0.611875050850071\n"
     ]
    }
   ],
   "source": [
    "ss_res = np.sum((y - y_pred) ** 2)\n",
    "ss_tot = np.sum((y - np.mean(y)) ** 2)\n",
    "r2 = 1 - (ss_res / ss_tot)\n",
    "print(f\"R² Score: {r2}\")"
   ]
  },
  {
   "cell_type": "markdown",
   "id": "c8bc3120",
   "metadata": {},
   "source": [
    "# Regression With Gradient Descent"
   ]
  },
  {
   "cell_type": "code",
   "execution_count": 21,
   "id": "e71cf7ea",
   "metadata": {},
   "outputs": [],
   "source": [
    "w_gd = 0.0\n",
    "b_gd = 0.0\n",
    "alpha = 0.1\n",
    "epochs = 1000"
   ]
  },
  {
   "cell_type": "code",
   "execution_count": 22,
   "id": "53fc6c92",
   "metadata": {},
   "outputs": [],
   "source": [
    "m = len(X)\n",
    "losses = []"
   ]
  },
  {
   "cell_type": "code",
   "execution_count": null,
   "id": "a0c0d65c",
   "metadata": {},
   "outputs": [
    {
     "name": "stdout",
     "output_type": "stream",
     "text": [
      "Epoch 0: MSE = 223.7163\n",
      "Epoch 50: MSE = 10.5127\n",
      "Epoch 100: MSE = 10.5127\n",
      "Epoch 150: MSE = 10.5127\n",
      "Epoch 200: MSE = 10.5127\n",
      "Epoch 250: MSE = 10.5127\n",
      "Epoch 300: MSE = 10.5127\n",
      "Epoch 350: MSE = 10.5127\n",
      "Epoch 400: MSE = 10.5127\n",
      "Epoch 450: MSE = 10.5127\n",
      "Epoch 500: MSE = 10.5127\n",
      "Epoch 550: MSE = 10.5127\n",
      "Epoch 600: MSE = 10.5127\n",
      "Epoch 650: MSE = 10.5127\n",
      "Epoch 700: MSE = 10.5127\n",
      "Epoch 750: MSE = 10.5127\n",
      "Epoch 800: MSE = 10.5127\n",
      "Epoch 850: MSE = 10.5127\n",
      "Epoch 900: MSE = 10.5127\n",
      "Epoch 950: MSE = 10.5127\n"
     ]
    }
   ],
   "source": [
    "for i in range(epochs):\n",
    "    y_pred_gd = w_gd * (X[:, 1]) + b_gd\n",
    "\n",
    "    error = y_pred_gd - y\n",
    "\n",
    "    dw = (2 / m) * (X[:, 1].T @ error)\n",
    "    db = (2 / m) * np.sum(error)\n",
    "\n",
    "    # Update parameters\n",
    "    w_gd -= alpha * dw\n",
    "    b_gd -= alpha * db\n",
    "\n",
    "    # Compute and store loss (Mean Squared Error)\n",
    "    mse = np.mean(error**2)\n",
    "    losses.append(mse)\n",
    "\n",
    "    # Print progress occasionally\n",
    "    if i % 50 == 0:\n",
    "        print(f\"Epoch {i}: MSE = {mse:.4f}\")"
   ]
  },
  {
   "cell_type": "code",
   "execution_count": 24,
   "id": "67ee1ee6",
   "metadata": {},
   "outputs": [
    {
     "name": "stdout",
     "output_type": "stream",
     "text": [
      "\n",
      "Final parameters:\n",
      "w (slope): 4.071006120646741\n",
      "b (intercept): 14.022499999999996\n"
     ]
    }
   ],
   "source": [
    "print(\"\\nFinal parameters:\")\n",
    "print(f\"w (slope): {w_gd}\")\n",
    "print(f\"b (intercept): {b_gd}\")"
   ]
  },
  {
   "cell_type": "code",
   "execution_count": 25,
   "id": "4f5c2dfb",
   "metadata": {},
   "outputs": [
    {
     "name": "stdout",
     "output_type": "stream",
     "text": [
      "Gradient Descent Results:\n",
      "Slope (w): 4.071006120646741\n",
      "Intercept (b): 14.022499999999996\n",
      "\n",
      "Normal Equation Results:\n",
      "Slope (w): 4.071006120646745\n",
      "Intercept (b): 14.022500000000003\n"
     ]
    }
   ],
   "source": [
    "print(\"Gradient Descent Results:\")\n",
    "print(f\"Slope (w): {w_gd}\")\n",
    "print(f\"Intercept (b): {b_gd}\")\n",
    "\n",
    "print(\"\\nNormal Equation Results:\")\n",
    "print(f\"Slope (w): {w[1]}\")\n",
    "print(f\"Intercept (b): {w[0]}\")"
   ]
  },
  {
   "cell_type": "code",
   "execution_count": 26,
   "id": "b2f09419",
   "metadata": {},
   "outputs": [
    {
     "name": "stdout",
     "output_type": "stream",
     "text": [
      "10.512652915656759 10.512652915656757\n"
     ]
    }
   ],
   "source": [
    "mse_gd = np.mean((y - (w_gd * X[:, 1] + b_gd)) ** 2)\n",
    "mse_ne = np.mean((y - (w[0] + w[1] * X[:, 1])) ** 2)\n",
    "print(mse_gd, mse_ne)"
   ]
  },
  {
   "cell_type": "markdown",
   "id": "d5b53a02",
   "metadata": {},
   "source": [
    "# Mini Batch Gradient Descent"
   ]
  },
  {
   "cell_type": "code",
   "execution_count": 27,
   "id": "bc387ec1",
   "metadata": {},
   "outputs": [],
   "source": [
    "# Code remains the same but with Mini Batch Gradient Descent we add one more hyperparameter - batch size and an extra loop\n",
    "\n",
    "w_mbgd = 0.0\n",
    "b_mbgd = 0.0\n",
    "alpha = 0.01\n",
    "epochs = 1000\n",
    "batch_size = 16\n",
    "\n",
    "m = len(X)\n",
    "losses_mbgd = []"
   ]
  },
  {
   "cell_type": "code",
   "execution_count": null,
   "id": "7888cfd7",
   "metadata": {},
   "outputs": [
    {
     "name": "stdout",
     "output_type": "stream",
     "text": [
      "Epoch 0: MSE = 162.7829\n",
      "Epoch 50: MSE = 5.4323\n",
      "Epoch 100: MSE = 5.0951\n",
      "Epoch 150: MSE = 12.7075\n",
      "Epoch 200: MSE = 15.4965\n",
      "Epoch 250: MSE = 1.8071\n",
      "Epoch 300: MSE = 13.4629\n",
      "Epoch 350: MSE = 7.2175\n",
      "Epoch 400: MSE = 7.9042\n",
      "Epoch 450: MSE = 8.4186\n",
      "Epoch 500: MSE = 7.4315\n",
      "Epoch 550: MSE = 14.4298\n",
      "Epoch 600: MSE = 10.0678\n",
      "Epoch 650: MSE = 5.8675\n",
      "Epoch 700: MSE = 16.2793\n",
      "Epoch 750: MSE = 10.0789\n",
      "Epoch 800: MSE = 5.1231\n",
      "Epoch 850: MSE = 9.1190\n",
      "Epoch 900: MSE = 10.3741\n",
      "Epoch 950: MSE = 16.6953\n",
      "\n",
      "Final parameters (Mini Batch GD):\n",
      "w (slope): 4.083592880008946\n",
      "b (intercept): 14.020581159809538\n",
      "10.512815024115675\n"
     ]
    }
   ],
   "source": [
    "for epoch in range(epochs):\n",
    "    # Shuffle the data at the beginning of each epoch as Mini Batch GD relies on random sampling\n",
    "    indices = np.arange(m)\n",
    "    np.random.shuffle(indices)\n",
    "    X_shuffled = X[indices]\n",
    "    y_shuffled = y[indices]\n",
    "\n",
    "    for start in range(0, m, batch_size):\n",
    "        end = start + batch_size\n",
    "        X_batch = X_shuffled[start:end]\n",
    "        y_batch = y_shuffled[start:end]\n",
    "\n",
    "        y_pred_mbgd = w_mbgd * (X_batch[:, 1]) + b_mbgd\n",
    "\n",
    "        error = y_pred_mbgd - y_batch\n",
    "\n",
    "        dw = (2 / len(X_batch)) * (X_batch[:, 1].T @ error)\n",
    "        db = (2 / len(X_batch)) * np.sum(error)\n",
    "\n",
    "        # Update parameters\n",
    "        w_mbgd -= alpha * dw\n",
    "        b_mbgd -= alpha * db\n",
    "\n",
    "        mse = np.mean(error**2)\n",
    "        losses_mbgd.append(mse)\n",
    "\n",
    "    if epoch % 50 == 0:\n",
    "        print(f\"Epoch {epoch}: MSE = {mse:.4f}\")\n",
    "\n",
    "print(\"\\nFinal parameters (Mini Batch GD):\")\n",
    "print(f\"w (slope): {w_mbgd}\")\n",
    "print(f\"b (intercept): {b_mbgd}\")\n",
    "mse_mbgd = np.mean((y - (w_mbgd * X[:, 1] + b_mbgd)) ** 2)\n",
    "print(mse_mbgd)"
   ]
  },
  {
   "cell_type": "markdown",
   "id": "dac1cb6e",
   "metadata": {},
   "source": [
    "# Stochastic Gradient Descent"
   ]
  },
  {
   "cell_type": "code",
   "execution_count": 34,
   "id": "96b6dc17",
   "metadata": {},
   "outputs": [],
   "source": [
    "w_sgd = 0.0\n",
    "b_sgd = 0.0\n",
    "alpha = 0.001\n",
    "epochs = 250\n",
    "\n",
    "m = len(X)\n",
    "losses_sgd = []"
   ]
  },
  {
   "cell_type": "code",
   "execution_count": 49,
   "id": "010423df",
   "metadata": {},
   "outputs": [
    {
     "name": "stdout",
     "output_type": "stream",
     "text": [
      "Epoch 25: MSE = 1.2934\n",
      "Epoch 50: MSE = 13.8178\n",
      "Epoch 75: MSE = 11.8544\n",
      "Epoch 100: MSE = 2.4334\n",
      "Epoch 125: MSE = 5.3322\n",
      "Epoch 150: MSE = 22.5348\n",
      "Epoch 175: MSE = 1.0213\n",
      "Epoch 200: MSE = 1.3802\n",
      "Epoch 225: MSE = 0.5926\n",
      "Epoch 250: MSE = 0.0217\n",
      "\n",
      "Final parameters (Stochastic GD):\n",
      "w (slope): [4.08324073]\n",
      "b (intercept): [14.02868037]\n",
      "10.512840798327634\n"
     ]
    }
   ],
   "source": [
    "# Stochastic Gradient Descent where we update parameters for single training example\n",
    "\n",
    "for epoch in range(1, epochs + 1):\n",
    "    # Shuffle the data at the beginning of each epoch\n",
    "    indices = np.arange(m)\n",
    "    np.random.shuffle(indices)\n",
    "    X_shuffled = X[indices]\n",
    "    y_shuffled = y[indices]\n",
    "\n",
    "    for i in range(m):\n",
    "        xi = X_shuffled[i].reshape(1, -1)\n",
    "        yi = y_shuffled[i]\n",
    "\n",
    "        y_pred_sgd = (w_sgd * (xi[:, 1]) + b_sgd)[0]\n",
    "\n",
    "        error = y_pred_sgd - yi\n",
    "\n",
    "        dw = (2 * xi[:, 1] * error)[0]\n",
    "        db = 2 * error\n",
    "\n",
    "        # Update parameters\n",
    "        w_sgd -= alpha * dw\n",
    "        b_sgd -= alpha * db\n",
    "\n",
    "        mse = error**2\n",
    "        losses_sgd.append(mse)\n",
    "\n",
    "    if epoch % 25 == 0:\n",
    "        print(f\"Epoch {epoch}: MSE = {mse:.4f}\")\n",
    "\n",
    "print(\"\\nFinal parameters (Stochastic GD):\")\n",
    "print(f\"w (slope): {w_sgd}\")\n",
    "print(f\"b (intercept): {b_sgd}\")\n",
    "mse_sgd = np.mean((y - (w_sgd * X[:, 1] + b_sgd)) ** 2)\n",
    "print(mse_sgd)"
   ]
  },
  {
   "cell_type": "code",
   "execution_count": 56,
   "id": "8eb57cf2",
   "metadata": {},
   "outputs": [
    {
     "name": "stdout",
     "output_type": "stream",
     "text": [
      "\n",
      "Normal Equation Results:\n",
      "Slope (w): 4.071006120646745\n",
      "Intercept (b): 14.022500000000003\n",
      "\n",
      "Gradient Descent Results:\n",
      "Slope (w): 4.071006120646741\n",
      "Intercept (b): 14.022499999999996\n",
      "\n",
      "Mini Batch Gradient Descent Results:\n",
      "Slope (w): 4.083592880008946\n",
      "Intercept (b): 14.020581159809538\n",
      "\n",
      "Stochastic Gradient Descent Results:\n",
      "Slope (w): [4.08324073]\n",
      "Intercept (b): [14.02868037]\n",
      "\n"
     ]
    }
   ],
   "source": [
    "print(\"\\nNormal Equation Results:\")\n",
    "print(f\"Slope (w): {w[1]}\")\n",
    "print(f\"Intercept (b): {w[0]}\\n\")\n",
    "\n",
    "print(\"Gradient Descent Results:\")\n",
    "print(f\"Slope (w): {w_gd}\")\n",
    "print(f\"Intercept (b): {b_gd}\\n\")\n",
    "\n",
    "print(\"Mini Batch Gradient Descent Results:\")\n",
    "print(f\"Slope (w): {w_mbgd}\")\n",
    "print(f\"Intercept (b): {b_mbgd}\\n\")\n",
    "\n",
    "print(\"Stochastic Gradient Descent Results:\")\n",
    "print(f\"Slope (w): {w_sgd}\")\n",
    "print(f\"Intercept (b): {b_sgd}\\n\")"
   ]
  },
  {
   "cell_type": "markdown",
   "id": "2a463a21",
   "metadata": {},
   "source": [
    "##  Conclusion\n",
    "\n",
    "It can be concluded that **Mini-Batch Gradient Descent (MBGD)** and **Stochastic Gradient Descent (SGD)** are generally more **efficient** and **practical** for real-world datasets.  \n",
    "They tend to **converge to the minimum faster** in terms of computation time, as they update parameters incrementally instead of processing the entire dataset at once.\n",
    "\n",
    "The **Closed-Form Solution (Normal Equation)** represents the *theoretical foundation* of linear regression — a direct mathematical approach.  \n",
    "However, as datasets grow larger or become more complex (especially with many features or polynomial terms), computing the matrix inverse \\((X^T X)^{-1}\\) becomes:\n",
    "\n",
    "-  **Computationally expensive**\n",
    "-  **Numerically unstable or undefined** if \\(X^T X\\) is not invertible\n",
    "\n",
    "Thus, while the closed-form solution beautifully demonstrates the origin of linear regression,  \n",
    "**gradient-based methods like SGD and Mini-Batch GD** are preferred in practice for their **scalability**, **efficiency**, and **robustness**.\n"
   ]
  },
  {
   "cell_type": "markdown",
   "id": "d66694be",
   "metadata": {},
   "source": [
    "### Visualizing Gradient Descent Variants\n",
    "\n",
    "The image below beautifully illustrates the difference between **Batch**, **Mini-Batch**, and **Stochastic Gradient Descent** optimization methods.  \n",
    "Each method aims to reach the global minimum of the cost function, but the **path and efficiency** vary.\n",
    "\n",
    "![Gradient Descent Visualisation](./img/Screenshot%202025-10-18%20121739.png)\n",
    "\n",
    "#### 🟦 Batch Gradient Descent\n",
    "- Uses the **entire dataset** to compute the gradient before each update.\n",
    "- The path to the minimum is **smooth and direct**, as the gradient is exact.\n",
    "- However, for large datasets, this method is **computationally expensive** and requires **large memory**, making it inefficient in practice.\n",
    "\n",
    "#### 🟩 Mini-Batch Gradient Descent\n",
    "- Divides the dataset into **small batches** (e.g., 32, 64 samples).\n",
    "- Each batch updates the parameters once per iteration.\n",
    "- The path is **less smooth**, but it balances **efficiency and stability**.\n",
    "- This is the most commonly used approach in modern ML due to its **speed and scalability**.\n",
    "\n",
    "#### 🟨 Stochastic Gradient Descent (SGD)\n",
    "- Updates parameters **after each individual sample**.\n",
    "- The path is **noisy and highly fluctuating**, but it often converges **faster in time** since updates happen more frequently.\n",
    "- The randomness can help **escape local minima**, though convergence may oscillate around the global minimum.\n",
    "\n",
    "---\n",
    "\n",
    "In summary:\n",
    "- **Batch GD** → Precise but slow  \n",
    "- **Mini-Batch GD** → Fast, stable, and widely used  \n",
    "- **Stochastic GD** → Fast but noisy  \n",
    "\n",
    "> Each method trades off between **accuracy, speed, and computational cost**."
   ]
  }
 ],
 "metadata": {
  "kernelspec": {
   "display_name": "ML Algos From Scratch",
   "language": "python",
   "name": "python3"
  },
  "language_info": {
   "codemirror_mode": {
    "name": "ipython",
    "version": 3
   },
   "file_extension": ".py",
   "mimetype": "text/x-python",
   "name": "python",
   "nbconvert_exporter": "python",
   "pygments_lexer": "ipython3",
   "version": "3.12.4"
  }
 },
 "nbformat": 4,
 "nbformat_minor": 5
}
